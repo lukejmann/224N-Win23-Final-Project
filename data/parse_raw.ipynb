{
 "cells": [
  {
   "cell_type": "code",
   "execution_count": 11,
   "metadata": {},
   "outputs": [
    {
     "name": "stdout",
     "output_type": "stream",
     "text": [
      "Requirement already satisfied: webdriver-manager in /Users/luke/miniconda3/lib/python3.9/site-packages/webdriver_manager-3.8.5-py3.9.egg (3.8.5)\n",
      "Requirement already satisfied: requests in /Users/luke/miniconda3/lib/python3.9/site-packages (from webdriver-manager) (2.28.1)\n",
      "Requirement already satisfied: python-dotenv in /Users/luke/miniconda3/lib/python3.9/site-packages/python_dotenv-0.21.1-py3.9.egg (from webdriver-manager) (0.21.1)\n",
      "Requirement already satisfied: tqdm in /Users/luke/miniconda3/lib/python3.9/site-packages (from webdriver-manager) (4.64.0)\n",
      "Requirement already satisfied: packaging in /Users/luke/miniconda3/lib/python3.9/site-packages (from webdriver-manager) (21.3)\n",
      "Requirement already satisfied: pyparsing!=3.0.5,>=2.0.2 in /Users/luke/miniconda3/lib/python3.9/site-packages (from packaging->webdriver-manager) (3.0.9)\n",
      "Requirement already satisfied: idna<4,>=2.5 in /Users/luke/miniconda3/lib/python3.9/site-packages (from requests->webdriver-manager) (3.4)\n",
      "Requirement already satisfied: urllib3<1.27,>=1.21.1 in /Users/luke/miniconda3/lib/python3.9/site-packages (from requests->webdriver-manager) (1.26.12)\n",
      "Requirement already satisfied: charset-normalizer<3,>=2 in /Users/luke/miniconda3/lib/python3.9/site-packages (from requests->webdriver-manager) (2.1.1)\n",
      "Requirement already satisfied: certifi>=2017.4.17 in /Users/luke/miniconda3/lib/python3.9/site-packages (from requests->webdriver-manager) (2022.12.7)\n"
     ]
    }
   ],
   "source": []
  },
  {
   "cell_type": "code",
   "execution_count": 16,
   "metadata": {},
   "outputs": [],
   "source": [
    "import os\n",
    "import time\n",
    "import requests\n",
    "from bs4 import BeautifulSoup\n",
    "import json"
   ]
  },
  {
   "cell_type": "code",
   "execution_count": 53,
   "metadata": {},
   "outputs": [],
   "source": [
    "raw_html_in_dir = './raw_html/biden'\n",
    "json_array_out_dir = './compiled_transcripts/biden'\n",
    "subject_name = 'biden'\n",
    "# ensure the output directory exists\n",
    "os.makedirs(json_array_out_dir, exist_ok=True)\n",
    "\n",
    "# get the list of files in the input directory\n",
    "file_list = os.listdir(raw_html_in_dir)\n"
   ]
  },
  {
   "cell_type": "code",
   "execution_count": 54,
   "metadata": {},
   "outputs": [
    {
     "name": "stdout",
     "output_type": "stream",
     "text": [
      "compiled 4030 statements\n"
     ]
    }
   ],
   "source": [
    "\n",
    "# iterate over the files in the input directory\n",
    "all_interview_data = []\n",
    "for file_name in file_list:\n",
    "    # read in the html file as a string\n",
    "    with open(os.path.join(raw_html_in_dir, file_name), 'r') as f:\n",
    "        html_string = f.read()\n",
    "        soup = BeautifulSoup(html_string, \"html.parser\")\n",
    "\n",
    "        media_rows = soup.find_all(\"div\", class_=\"media topic-media-row mediahover\")\n",
    "\n",
    "        for row in media_rows:\n",
    "            speaker_label = row.find(\"div\", class_=\"speaker-label\")\n",
    "            transcript_text = row.find(\"div\", class_=\"transcript-text-block\")\n",
    "\n",
    "            if speaker_label and transcript_text:\n",
    "                speaker = speaker_label.get_text(strip=True)\n",
    "                text = transcript_text.get_text(strip=True)\n",
    "                all_interview_data.append({\"speaker\": speaker, \"text\": text})\n",
    "\n",
    "        interview_json = json.dumps(all_interview_data, indent=2)\n",
    "\n",
    "print(\"compiled {} statements\".format(len(all_interview_data)))"
   ]
  },
  {
   "cell_type": "code",
   "execution_count": 55,
   "metadata": {},
   "outputs": [
    {
     "name": "stdout",
     "output_type": "stream",
     "text": [
      "compiled 4030 statements\n",
      "{'speaker': 'Joe Biden', 'text': \"I'll tell you a real quick story. One of the things my dad -- when he was up in Philadelphia, he was in his late 70s, he was still working full time. I went up to see him, I was a US senator, and I was -- I had to be in Philly and we're going to go to a restaurant to lunch. And I had two of my staff with me, were heading to lunch, who knew my dad well.\"}\n",
      "{'speaker': 'Joe Biden', 'text': \"More women than men in our administration by 50-some -- 52 or whatever percent. More African American judges has been appointed, not just Supreme Court, but all through the lower courts as well. When you have 24 out of every 100 students in the grade schools in America speaking Spanish, Spanish speakers, how in God's name is it not in the interest of the United States to reach down and lift those people up, just like Irish immigrants in the 1800s or just like Italians after World War II?\"}\n",
      "{'speaker': 'Joe Biden', 'text': \"Especially in the business we're in.\"}\n",
      "{'speaker': 'Joe Biden', 'text': \"The individuals in Congress got those. But, um, what we've provided for is, if you went to school, if you qualify for a Pell Grant, you're qualified for two thou-, um, excuse me, you, you qualify for $20,000 in debt forgiveness. Secondly, if you don't have one of those loans, you just get 10,000 written off.\"}\n",
      "{'speaker': 'Joe Biden', 'text': \"So what we got to do is we got to give them the help they need to be better at their job. The idea that you have someone sitting on a ledge, saying they're going to jump off a ledge, and you call the cop, and sending a guy or a woman who's a law enforcement officer, has a criminal justice degree, when you could send with him or her -- you could send with them a psychologist or a social worker, or somebody who can talk to them.\"}\n",
      "{'speaker': 'Al Roker', 'text': 'All right. Well, listen, happy Thanksgiving to both of you, from our family to yours. Thank you, thank you, and happy Thanksgiving.'}\n",
      "{'speaker': 'Joe Biden', 'text': 'They shouldn\\'t believe a warning. They should just say: \"Let\\'s see. Let\\'s see, which is correct.\" And from my perspective, you talked about a recession. First of all, it\\'s not inevitable. Secondly, we\\'re in a stronger position than any nation in the world to overcome this inflation. It\\'s bad. Isn\\'t it kind of interesting?'}\n",
      "{'speaker': 'Joe Biden', 'text': 'Swear to God.'}\n",
      "{'speaker': 'Joe Biden', 'text': \"Well, yeah, I know. But it's not like they are -- they're 80 percent of the time. The pace that they're not there is Joe's not there on a lot of the things having to do with the climate and the environment because he comes from coal country and -- and he has a different view, and Krysten is not always there in terms of the tax policies.\"}\n",
      "{'speaker': 'Joe Biden', 'text': 'OK.'}\n",
      "{'speaker': 'Manny MUA', 'text': \"What do you guys think about that? Both of your guys' thoughts.\"}\n",
      "{'speaker': 'Joe Biden', 'text': 'Oh.'}\n",
      "{'speaker': 'Sage Steele', 'text': 'Thank you.'}\n",
      "{'speaker': 'Joe Biden', 'text': 'Sure.'}\n",
      "{'speaker': 'Anderson Cooper', 'text': 'Opposed to all of them?'}\n",
      "{'speaker': 'Joe Biden', 'text': \"Continue to grow the economy. And we're growing the economy. It's growing in -- in a way that it hasn't in years and years.\"}\n",
      "{'speaker': 'Joe Biden', 'text': 'Oh, everybody asks serious questions.'}\n",
      "{'speaker': 'Joe Biden', 'text': \"And having a profound impact on their energy ability to be able to keep the heat on in the winter and keep things moving. And so, we're going to need fossil fuel. What we have to do is we have to -- I've -- I've said no more drilling off our ocean, I mean, the whole range. But it still has to be -- there has to be the ability to generate some energy.\"}\n",
      "{'speaker': 'Joe Biden', 'text': \"[Broadcast on ABC] We should've.\"}\n",
      "{'speaker': 'Joe Biden', 'text': \"And the energy problem, we're going to deal with the whole notion of global warming. We passed $368 billion worth of help, which, as the same banker is talking about, is going to bring a $1.7 trillion -- million dollar, billion dollars off the sidelines, in investment. Look what's happened -- look at the investment that's going on, in America, right now.\"}\n"
     ]
    }
   ],
   "source": [
    "print(\"compiled {} statements\".format(len(all_interview_data)))\n",
    "# randomly sample 20 statements and print them out (used to determing parsing logic)\n",
    "import random\n",
    "for i in range(20):\n",
    "    print(random.choice(all_interview_data))\n",
    "    "
   ]
  },
  {
   "cell_type": "code",
   "execution_count": 56,
   "metadata": {},
   "outputs": [],
   "source": [
    "inital_size = len(all_interview_data)\n",
    "\n",
    "# remove all text in brackets from the text\n",
    "import re\n",
    "for i in range(len(all_interview_data)):\n",
    "    all_interview_data[i]['text'] = re.sub(r'\\[.*?\\]', '', all_interview_data[i]['text'])\n",
    "\n",
    "# remove all empty statements or only whitespace statements\n",
    "all_interview_data = [x for x in all_interview_data if x['text'] and not x['text'].isspace()]\n",
    "\n",
    "# remove all statements that are less than 5 characters\n",
    "all_interview_data = [x for x in all_interview_data if len(x['text']) > 5]\n",
    "\n",
    "print(\"removed {} statements\".format(inital_size - len(all_interview_data)))\n"
   ]
  },
  {
   "cell_type": "code",
   "execution_count": 57,
   "metadata": {},
   "outputs": [],
   "source": [
    "# save the data to a json file\n",
    "with open(os.path.join(json_array_out_dir, subject_name + '.json'), 'w') as f:\n",
    "    json.dump(all_interview_data, f, indent=2)\n",
    "    "
   ]
  },
  {
   "cell_type": "code",
   "execution_count": null,
   "metadata": {},
   "outputs": [],
   "source": []
  },
  {
   "cell_type": "code",
   "execution_count": null,
   "metadata": {},
   "outputs": [],
   "source": []
  }
 ],
 "metadata": {
  "kernelspec": {
   "display_name": "base",
   "language": "python",
   "name": "python3"
  },
  "language_info": {
   "codemirror_mode": {
    "name": "ipython",
    "version": 3
   },
   "file_extension": ".py",
   "mimetype": "text/x-python",
   "name": "python",
   "nbconvert_exporter": "python",
   "pygments_lexer": "ipython3",
   "version": "3.9.12"
  },
  "orig_nbformat": 4
 },
 "nbformat": 4,
 "nbformat_minor": 2
}
