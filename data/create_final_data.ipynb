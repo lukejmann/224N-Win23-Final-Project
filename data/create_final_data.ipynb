{
 "cells": [
  {
   "cell_type": "code",
   "execution_count": 30,
   "metadata": {},
   "outputs": [],
   "source": [
    "import os\n",
    "from bs4 import BeautifulSoup\n",
    "import json"
   ]
  },
  {
   "cell_type": "code",
   "execution_count": 31,
   "metadata": {},
   "outputs": [
    {
     "name": "stdout",
     "output_type": "stream",
     "text": [
      "{'speaker': 'D.L. Hughley', 'text': 'Hello, President Biden. How are you, young man?'}\n",
      "{'speaker': 'Joe Biden', 'text': \"How are you doing? It's been a while, man. How are you doing?\"}\n",
      "{'speaker': 'D.L. Hughley', 'text': 'Yeah. The last time we talked, I had COVID, and we actually talked so long. By the time we finished, my 14-day quarantine was up. So -- so, we had a good conversation. How are you doing?'}\n",
      "{'speaker': 'Joe Biden', 'text': \"I'm doing well. I'm doing well.\"}\n",
      "{'speaker': 'D.L. Hughley', 'text': \"I'm curious because it is Election Day. And the last time we talked, you weren't president, and now, you are. And I think I've been certainly impressed by your legislative accomplishments. I think you've done things. I think you've basically kept a lot of the promises you made on the campaign trail. Do you think that that's resonated with the American people?\"}\n",
      "{'speaker': 'Joe Biden', 'text': 'Well, you know, people are really hurting, and -- and they were hurting a lot when we started this campaign.'}\n",
      "{'speaker': 'Joe Biden', 'text': \"As you know, you know, we -- we inherited a -- a hell of a mess. Unemployment was sky-high. We cut it to more than half. Black unemployment was sky-high. We've cut it down to one of the lowest rates it's ever been. You know, the fundamental thing I've tried to do is change the whole dynamic how we look at the economy.\"}\n",
      "{'speaker': 'D.L. Hughley', 'text': 'Right.'}\n",
      "{'speaker': 'Joe Biden', 'text': \"And that is I want to build this economy. And I really mean it. You know me well to know it. And I want to build it from the bottom up and the middle out because when the middle class is doing well and the poor have a shot, they have a ladder up, and the -- and the wealthy do fine -- because I'm not worried about them.\"}\n",
      "{'speaker': 'Joe Biden', 'text': \"And -- but the other piece of this is I think it is -- part of it is just changing the whole attitude. I want to completely, thoroughly, and not a joke, integrate the Black community into everything that's going on. I have appointed more African American judges. I put the first Black Supreme Court justice on the court.\"}\n"
     ]
    }
   ],
   "source": [
    "subject = \"Joe Biden\"\n",
    "compiled_transcripts_raw_file = \"compiled_transcripts/biden/biden.json\"\n",
    "output_dir = \"finalized_data/biden\"\n",
    "output_file_prefix = \"biden\"\n",
    "\n",
    "# ensure the output directory exists\n",
    "os.makedirs(output_dir, exist_ok=True)\n",
    "\n",
    "\n",
    "\n",
    "\n",
    "\n",
    "# example: [\n",
    "# {'speaker': 'Joe Biden', 'text': \"And let's see if we can get an agreement to kickstart this. And then fight over what's left and see if I can get it done without Republicans, if need be.\"},\n",
    "# {'speaker': 'Josh Boak', 'text': \"I'll answer whatever you need.\"}\n",
    "# ]\n",
    "compiled_convos = []\n",
    "with open(compiled_transcripts_raw_file, \"r\") as f:\n",
    "    compiled_transcripts_raw = json.load(f)\n",
    "    for convo in compiled_transcripts_raw:\n",
    "        compiled_convos.append(\n",
    "            {\n",
    "                \"speaker\": convo[\"speaker\"],\n",
    "                \"text\": convo[\"text\"],\n",
    "            }\n",
    "        )\n",
    "\n",
    "\n",
    "# preview the data by printing the first 10 conversations\n",
    "for i in range(10):\n",
    "    print(compiled_convos[i])"
   ]
  },
  {
   "cell_type": "code",
   "execution_count": 57,
   "metadata": {},
   "outputs": [
    {
     "name": "stdout",
     "output_type": "stream",
     "text": [
      "{'context': \"Person A: Yeah. The last time we talked, I had COVID, and we actually talked so long. By the time we finished, my 14-day quarantine was up. So -- so, we had a good conversation. How are you doing?\\nPerson A: I'm curious because it is Election Day. And the last time we talked, you weren't president, and now, you are. And I think I've been certainly impressed by your legislative accomplishments. I think you've done things. I think you've basically kept a lot of the promises you made on the campaign trail. Do you think that that's resonated with the American people?\\nPerson A: As you know, you know, we -- we inherited a -- a hell of a mess. Unemployment was sky-high. We cut it to more than half. Black unemployment was sky-high. We've cut it down to one of the lowest rates it's ever been. You know, the fundamental thing I've tried to do is change the whole dynamic how we look at the economy.\\n\", 'subject': 'Joe Biden', 'response': 'Well, you know, people are really hurting, and -- and they were hurting a lot when we started this campaign.'}\n",
      "{'context': \"Person A: Yeah. The last time we talked, I had COVID, and we actually talked so long. By the time we finished, my 14-day quarantine was up. So -- so, we had a good conversation. How are you doing?\\nPerson A: I'm curious because it is Election Day. And the last time we talked, you weren't president, and now, you are. And I think I've been certainly impressed by your legislative accomplishments. I think you've done things. I think you've basically kept a lot of the promises you made on the campaign trail. Do you think that that's resonated with the American people?\\n\", 'subject': 'Joe Biden', 'response': 'Well, you know, people are really hurting, and -- and they were hurting a lot when we started this campaign.'}\n",
      "{'context': 'Joe Biden: Yeah. The last time we talked, I had COVID, and we actually talked so long. By the time we finished, my 14-day quarantine was up. So -- so, we had a good conversation. How are you doing?\\n', 'subject': 'Joe Biden', 'response': 'Well, you know, people are really hurting, and -- and they were hurting a lot when we started this campaign.'}\n",
      "{'context': \"Joe Biden: I'm doing well. I'm doing well.\\nJoe Biden: Well, you know, people are really hurting, and -- and they were hurting a lot when we started this campaign.\\nJoe Biden: Right.\\n\", 'subject': 'Joe Biden', 'response': \"As you know, you know, we -- we inherited a -- a hell of a mess. Unemployment was sky-high. We cut it to more than half. Black unemployment was sky-high. We've cut it down to one of the lowest rates it's ever been. You know, the fundamental thing I've tried to do is change the whole dynamic how we look at the economy.\"}\n",
      "{'context': \"Joe Biden: I'm doing well. I'm doing well.\\nJoe Biden: Well, you know, people are really hurting, and -- and they were hurting a lot when we started this campaign.\\n\", 'subject': 'Joe Biden', 'response': \"As you know, you know, we -- we inherited a -- a hell of a mess. Unemployment was sky-high. We cut it to more than half. Black unemployment was sky-high. We've cut it down to one of the lowest rates it's ever been. You know, the fundamental thing I've tried to do is change the whole dynamic how we look at the economy.\"}\n",
      "{'context': \"Person A: I'm doing well. I'm doing well.\\n\", 'subject': 'Joe Biden', 'response': \"As you know, you know, we -- we inherited a -- a hell of a mess. Unemployment was sky-high. We cut it to more than half. Black unemployment was sky-high. We've cut it down to one of the lowest rates it's ever been. You know, the fundamental thing I've tried to do is change the whole dynamic how we look at the economy.\"}\n",
      "{'context': \"Joe Biden: Well, you know, people are really hurting, and -- and they were hurting a lot when we started this campaign.\\nJoe Biden: Right.\\nJoe Biden: And -- but the other piece of this is I think it is -- part of it is just changing the whole attitude. I want to completely, thoroughly, and not a joke, integrate the Black community into everything that's going on. I have appointed more African American judges. I put the first Black Supreme Court justice on the court.\\n\", 'subject': 'Joe Biden', 'response': \"And that is I want to build this economy. And I really mean it. You know me well to know it. And I want to build it from the bottom up and the middle out because when the middle class is doing well and the poor have a shot, they have a ladder up, and the -- and the wealthy do fine -- because I'm not worried about them.\"}\n",
      "{'context': 'Person A: Well, you know, people are really hurting, and -- and they were hurting a lot when we started this campaign.\\nPerson A: Right.\\n', 'subject': 'Joe Biden', 'response': \"And that is I want to build this economy. And I really mean it. You know me well to know it. And I want to build it from the bottom up and the middle out because when the middle class is doing well and the poor have a shot, they have a ladder up, and the -- and the wealthy do fine -- because I'm not worried about them.\"}\n",
      "{'context': 'Joe Biden: Well, you know, people are really hurting, and -- and they were hurting a lot when we started this campaign.\\n', 'subject': 'Joe Biden', 'response': \"And that is I want to build this economy. And I really mean it. You know me well to know it. And I want to build it from the bottom up and the middle out because when the middle class is doing well and the poor have a shot, they have a ladder up, and the -- and the wealthy do fine -- because I'm not worried about them.\"}\n",
      "{'context': \"Joe Biden: As you know, you know, we -- we inherited a -- a hell of a mess. Unemployment was sky-high. We cut it to more than half. Black unemployment was sky-high. We've cut it down to one of the lowest rates it's ever been. You know, the fundamental thing I've tried to do is change the whole dynamic how we look at the economy.\\nJoe Biden: And that is I want to build this economy. And I really mean it. You know me well to know it. And I want to build it from the bottom up and the middle out because when the middle class is doing well and the poor have a shot, they have a ladder up, and the -- and the wealthy do fine -- because I'm not worried about them.\\nJoe Biden: I have -- my staff has significantly more African Americans than most administrations. You know -- and I want to make sure that we provide for -- some funding for first-time homebuyers --\\n\", 'subject': 'Joe Biden', 'response': \"And -- but the other piece of this is I think it is -- part of it is just changing the whole attitude. I want to completely, thoroughly, and not a joke, integrate the Black community into everything that's going on. I have appointed more African American judges. I put the first Black Supreme Court justice on the court.\"}\n"
     ]
    }
   ],
   "source": [
    "# here we create a series of JSON cronological conversations with varying context lengths in the format of\n",
    "# {\n",
    "# context:\n",
    "# \t“”\n",
    "# \t\tINTERVIEWER: INTERVIEWER_RESPONSE_1\n",
    "# \t\tBIDEN: BIDEN_RESPONSE_1\n",
    "# \t\tup to n=3, always ending with INTERVIEWER\n",
    "#       ...\n",
    "# \t\tINTERVIEWER: INTERVIEWER_RESPONSE_n\n",
    "# \t“”\n",
    "# subject: “Joe Biden”\n",
    "# response (the response to the last question in the context): “BIDEN_RESPONSE_n”\n",
    "# }\n",
    "\n",
    "# we'll create this as follows:\n",
    "# for each text spoken the subject, we'll create n-1 length datas with the previous (n-1)*2 texts\n",
    "# so if n=3, we'll create a dataset with context of the previous 5 texts, the previous 3 texts, and the previous 1 text\n",
    "\n",
    "dataset = []\n",
    "i = 5\n",
    "n = 3\n",
    "while i < len(compiled_convos):\n",
    "    # ignore case\n",
    "    if subject.lower() in compiled_convos[i][\"speaker\"].lower():\n",
    "        for m in range(n):\n",
    "            # print(compiled_convos[i - n + m * 2][\"speaker\"])\n",
    "            if i - n + m * 2 >= 0:\n",
    "                # if the speaker is the subject, we'll add the speaker name otherwise we'll replace the name with \"INTERVIEWER\"\n",
    "\n",
    "                name = \"PersonA\" if subject.lower(\n",
    "                ) not in compiled_convos[i - n + m * 2][\"speaker\"].lower() else compiled_convos[i - n + m * 2][\"speaker\"]\n",
    "                dataset.append(\n",
    "                    {\n",
    "\n",
    "                        \"context\": \"\".join(\n",
    "                            [\n",
    "                                name\n",
    "                                + \": \"\n",
    "                                + compiled_convos[i - n + m * 2][\"text\"]\n",
    "                                + \"\\n\"\n",
    "                                for m in range(n - m)\n",
    "                            ]\n",
    "                        ),\n",
    "                        \"subject\": subject,\n",
    "                        \"response\": compiled_convos[i][\"text\"],\n",
    "                    }\n",
    "                )\n",
    "\n",
    "    i += 1\n",
    "\n",
    "for i in range(10):\n",
    "    print(dataset[i])\n"
   ]
  },
  {
   "cell_type": "code",
   "execution_count": 58,
   "metadata": {},
   "outputs": [
    {
     "name": "stdout",
     "output_type": "stream",
     "text": [
      "train dataset size: 5320\n",
      "test dataset size: 1331\n",
      "total dataset size: 6651\n"
     ]
    }
   ],
   "source": [
    "test_split = 0.2\n",
    "train_dataset = dataset[: int(len(dataset) * (1 - test_split))]\n",
    "test_dataset = dataset[int(len(dataset) * (1 - test_split)) :]\n",
    "print('train dataset size:', len(train_dataset))\n",
    "print('test dataset size:', len(test_dataset))\n",
    "print('total dataset size:', len(dataset))\n",
    "\n",
    "# save the dataset\n",
    "out_path = os.path.join(output_dir, output_file_prefix + \"_all.json\")\n",
    "with open(out_path, \"w\") as f:\n",
    "    json.dump(dataset, f)\n",
    "out_path = os.path.join(output_dir, output_file_prefix + \"_train.json\")\n",
    "with open(out_path, \"w\") as f:\n",
    "    json.dump(train_dataset, f)\n",
    "out_path = os.path.join(output_dir, output_file_prefix + \"_test.json\")\n",
    "with open(out_path, \"w\") as f:\n",
    "    json.dump(test_dataset, f)\n",
    "\n"
   ]
  },
  {
   "cell_type": "code",
   "execution_count": null,
   "metadata": {},
   "outputs": [],
   "source": []
  },
  {
   "cell_type": "code",
   "execution_count": null,
   "metadata": {},
   "outputs": [],
   "source": []
  }
 ],
 "metadata": {
  "kernelspec": {
   "display_name": "base",
   "language": "python",
   "name": "python3"
  },
  "language_info": {
   "codemirror_mode": {
    "name": "ipython",
    "version": 3
   },
   "file_extension": ".py",
   "mimetype": "text/x-python",
   "name": "python",
   "nbconvert_exporter": "python",
   "pygments_lexer": "ipython3",
   "version": "3.9.12"
  },
  "orig_nbformat": 4
 },
 "nbformat": 4,
 "nbformat_minor": 2
}
